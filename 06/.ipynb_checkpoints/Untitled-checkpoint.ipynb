{
 "cells": [
  {
   "cell_type": "code",
   "execution_count": 4,
   "metadata": {
    "ExecuteTime": {
     "end_time": "2019-12-06T05:45:55.843697Z",
     "start_time": "2019-12-06T05:45:55.833903Z"
    }
   },
   "outputs": [],
   "source": [
    "from collections import defaultdict\n",
    "\n",
    "children = defaultdict(list)\n",
    "parents = {}\n",
    "\n",
    "ROOT = \"COM\"\n",
    "\n",
    "with open('input.txt') as f:\n",
    "    for l in f:\n",
    "        parent, child = l.strip().split(')')\n",
    "        children[parent].append(child)\n",
    "        parents[child] = parent\n",
    "\n",
    "def get_orbits(node, depth):\n",
    "    orbits = depth * len(children[node])\n",
    "    for child in children[node]:\n",
    "        orbits += get_orbits(child, depth + 1)\n",
    "    return orbits\n"
   ]
  },
  {
   "cell_type": "code",
   "execution_count": 2,
   "metadata": {
    "ExecuteTime": {
     "end_time": "2019-12-06T05:43:34.617312Z",
     "start_time": "2019-12-06T05:43:34.601001Z"
    }
   },
   "outputs": [
    {
     "data": {
      "text/plain": [
       "224901"
      ]
     },
     "execution_count": 2,
     "metadata": {},
     "output_type": "execute_result"
    }
   ],
   "source": [
    "get_orbits(ROOT, 1)"
   ]
  },
  {
   "cell_type": "code",
   "execution_count": 5,
   "metadata": {
    "ExecuteTime": {
     "end_time": "2019-12-06T05:50:30.579510Z",
     "start_time": "2019-12-06T05:50:30.573175Z"
    }
   },
   "outputs": [
    {
     "name": "stdout",
     "output_type": "stream",
     "text": [
      "334\n"
     ]
    }
   ],
   "source": [
    "node = 'YOU'\n",
    "depth = -1\n",
    "path = {}\n",
    "while node != ROOT:\n",
    "    depth += 1\n",
    "    node = parents[node]\n",
    "    path[node] = depth\n",
    "\n",
    "node = 'SAN'\n",
    "depth = -1\n",
    "# assumes you don't orbit santa and santa doesn't orbit you\n",
    "while node != ROOT:\n",
    "    depth += 1\n",
    "    node = parents[node]\n",
    "    if node in path:\n",
    "        print(depth + path[node])\n",
    "        break\n"
   ]
  },
  {
   "cell_type": "code",
   "execution_count": null,
   "metadata": {},
   "outputs": [],
   "source": []
  }
 ],
 "metadata": {
  "kernelspec": {
   "display_name": "Python 3",
   "language": "python",
   "name": "python3"
  },
  "language_info": {
   "codemirror_mode": {
    "name": "ipython",
    "version": 3
   },
   "file_extension": ".py",
   "mimetype": "text/x-python",
   "name": "python",
   "nbconvert_exporter": "python",
   "pygments_lexer": "ipython3",
   "version": "3.5.0"
  },
  "toc": {
   "base_numbering": 1,
   "nav_menu": {},
   "number_sections": true,
   "sideBar": true,
   "skip_h1_title": false,
   "title_cell": "Table of Contents",
   "title_sidebar": "Contents",
   "toc_cell": false,
   "toc_position": {},
   "toc_section_display": true,
   "toc_window_display": false
  }
 },
 "nbformat": 4,
 "nbformat_minor": 2
}

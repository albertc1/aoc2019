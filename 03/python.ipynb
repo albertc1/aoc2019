{
 "cells": [
  {
   "cell_type": "code",
   "execution_count": 27,
   "metadata": {
    "ExecuteTime": {
     "end_time": "2019-12-03T07:07:15.370222Z",
     "start_time": "2019-12-03T07:07:15.361157Z"
    }
   },
   "outputs": [],
   "source": [
    "with open('input.txt', 'r') as f:\n",
    "    a, b = f.read().split()\n"
   ]
  },
  {
   "cell_type": "code",
   "execution_count": 5,
   "metadata": {
    "ExecuteTime": {
     "end_time": "2019-12-03T05:45:22.276722Z",
     "start_time": "2019-12-03T05:45:22.269975Z"
    }
   },
   "outputs": [],
   "source": [
    "from collections import defaultdict\n",
    "\n",
    "def parse_path(string):\n",
    "    horizontals = defaultdict(list)\n",
    "    verticals = defaultdict(list)\n",
    "    path = string.split(',')\n",
    "    x0, y0, x1, y1 = [0] * 4\n",
    "    for step in path:\n",
    "        d = step[0]\n",
    "        val = int(step[1:])\n",
    "        if d == 'R':\n",
    "            x1 = x0 + val\n",
    "        elif d == 'U':\n",
    "            y1 = y0 + val\n",
    "        elif d == 'L':\n",
    "            x1 = x0 - val\n",
    "        elif d == 'D':\n",
    "            y1 = y0 - val\n",
    "        else:\n",
    "            raise Exception('unknown direction')\n",
    "        if y0 == y1:\n",
    "            horizontals[y0].append((min(x0,x1), max(x0,x1)))\n",
    "            x0 = x1\n",
    "        else:\n",
    "            verticals[x0].append((min(y0,y1), max(y0,y1)))\n",
    "            y0 = y1\n",
    "    return horizontals, verticals"
   ]
  },
  {
   "cell_type": "code",
   "execution_count": 22,
   "metadata": {
    "ExecuteTime": {
     "end_time": "2019-12-03T06:35:19.908201Z",
     "start_time": "2019-12-03T06:35:19.893490Z"
    }
   },
   "outputs": [],
   "source": [
    "\n",
    "def find_overlaps(a, b):\n",
    "    overlaps = []\n",
    "    for i, a_ranges in a.items():\n",
    "        b_ranges = b.get(i)\n",
    "        if not b_ranges:\n",
    "            continue\n",
    "        for a_start, a_end in a_ranges:\n",
    "            overlaps = []\n",
    "            di = abs(i)\n",
    "            for b_start, b_end in b_ranges:\n",
    "                if b_start <= a_start <= b_end:\n",
    "                    overlaps.append(di + abs(a_start))\n",
    "                if b_start <= a_end <= b_end:\n",
    "                    overlaps.append(di + abs(a_end))\n",
    "                if a_start < b_end < a_end:\n",
    "                    overlaps.append(di + abs(b_end))\n",
    "                if a_start < b_start < a_end:\n",
    "                    overlaps.append(di + abs(b_start))\n",
    "    return overlaps\n",
    "    \n",
    "def find_crosses(a, b):\n",
    "    crosses = []\n",
    "    for i, a_ranges in a.items():\n",
    "        for j, b_ranges in b.items():\n",
    "            for a_start, a_end in a_ranges:\n",
    "                if j > a_end or j < a_start:\n",
    "                    continue\n",
    "                for b_start, b_end in b_ranges:\n",
    "                    if b_start <= i <= b_end:\n",
    "                        crosses.append(abs(i) + abs(j))\n",
    "    return crosses\n",
    "    \n",
    "def solve(a, b):\n",
    "    ah, av = parse_path(a)\n",
    "    bh, bv = parse_path(b)\n",
    "    return min([\n",
    "        n\n",
    "        for n in (\n",
    "            find_overlaps(ah, bh) +\n",
    "            find_overlaps(av, bv) +\n",
    "            find_crosses(ah, bv) +\n",
    "            find_crosses(av, bh)\n",
    "        )\n",
    "        if n\n",
    "    ])\n"
   ]
  },
  {
   "cell_type": "code",
   "execution_count": 23,
   "metadata": {
    "ExecuteTime": {
     "end_time": "2019-12-03T06:35:21.580272Z",
     "start_time": "2019-12-03T06:35:21.575386Z"
    }
   },
   "outputs": [
    {
     "data": {
      "text/plain": [
       "6"
      ]
     },
     "execution_count": 23,
     "metadata": {},
     "output_type": "execute_result"
    }
   ],
   "source": [
    "solve('R8,U5,L5,D3', 'U7,R6,D4,L4')"
   ]
  },
  {
   "cell_type": "code",
   "execution_count": 25,
   "metadata": {
    "ExecuteTime": {
     "end_time": "2019-12-03T06:35:43.526851Z",
     "start_time": "2019-12-03T06:35:43.495287Z"
    }
   },
   "outputs": [
    {
     "data": {
      "text/plain": [
       "1195"
      ]
     },
     "execution_count": 25,
     "metadata": {},
     "output_type": "execute_result"
    }
   ],
   "source": [
    "solve(a,b)"
   ]
  },
  {
   "cell_type": "code",
   "execution_count": 31,
   "metadata": {
    "ExecuteTime": {
     "end_time": "2019-12-03T07:08:52.375535Z",
     "start_time": "2019-12-03T07:08:52.356627Z"
    }
   },
   "outputs": [],
   "source": [
    "# part 2\n",
    "\n",
    "from collections import defaultdict\n",
    "\n",
    "def parse_path(string):\n",
    "    horizontals = defaultdict(list)\n",
    "    verticals = defaultdict(list)\n",
    "    path = string.split(',')\n",
    "    x0, y0, x1, y1, steps = [0] * 5\n",
    "    for leg in path:\n",
    "        d = leg[0]\n",
    "        val = int(leg[1:])\n",
    "        if d == 'R':\n",
    "            x1 = x0 + val\n",
    "        elif d == 'U':\n",
    "            y1 = y0 + val\n",
    "        elif d == 'L':\n",
    "            x1 = x0 - val\n",
    "        elif d == 'D':\n",
    "            y1 = y0 - val\n",
    "        else:\n",
    "            raise Exception('unknown direction')\n",
    "        if y0 == y1:\n",
    "            if x0 > x1:\n",
    "                steps += val\n",
    "                segment = (x1, x0, steps, -1)\n",
    "            else:\n",
    "                segment = (x0, x1, steps, 1)\n",
    "                steps += val\n",
    "            horizontals[y0].append(segment)\n",
    "            x0 = x1\n",
    "        else:\n",
    "            if y0 > y1:\n",
    "                steps += val\n",
    "                segment = (y1, y0, steps, -1)\n",
    "            else:\n",
    "                segment = (y0, y1, steps, 1)\n",
    "                steps += val\n",
    "            verticals[x0].append(segment)\n",
    "            y0 = y1\n",
    "    return horizontals, verticals\n",
    "\n",
    "\n",
    "def dist(start, base, delta, point):\n",
    "    return base + delta * (point - start)\n",
    "\n",
    "\n",
    "def find_overlaps(a, b):\n",
    "    overlaps = []\n",
    "    for i, a_ranges in a.items():\n",
    "        b_ranges = b.get(i)\n",
    "        if not b_ranges:\n",
    "            continue\n",
    "        for a_start, a_end, a_base, a_delta in a_ranges:\n",
    "            overlaps = []\n",
    "            di = abs(i)\n",
    "            for b_start, b_end, b_base, b_delta in b_ranges:\n",
    "                def _dist(pt):\n",
    "                    return dist(a_start, a_base, a_delta, pt) + dist(b_start, b_base, b_delta, pt)\n",
    "                if b_start <= a_start <= b_end:\n",
    "                    overlaps.append(_dist(a_start))\n",
    "                if b_start <= a_end <= b_end:\n",
    "                    overlaps.append(_dist(a_end))\n",
    "                if a_start < b_end < a_end:\n",
    "                    overlaps.append(_dist(b_end))\n",
    "                if a_start < b_start < a_end:\n",
    "                    overlaps.append(_dist(b_start))\n",
    "    return overlaps\n",
    "    \n",
    "def find_crosses(a, b):\n",
    "    crosses = []\n",
    "    for i, a_ranges in a.items():\n",
    "        for j, b_ranges in b.items():\n",
    "            for a_start, a_end, a_base, a_delta in a_ranges:\n",
    "                if j > a_end or j < a_start:\n",
    "                    continue\n",
    "                for b_start, b_end, b_base, b_delta in b_ranges:\n",
    "                    if b_start <= i <= b_end:\n",
    "                        crosses.append(dist(a_start, a_base, a_delta, j) + dist(b_start, b_base, b_delta, i))\n",
    "    return crosses\n",
    "    \n",
    "def solve(a, b):\n",
    "    ah, av = parse_path(a)\n",
    "    bh, bv = parse_path(b)\n",
    "    return min([\n",
    "        n\n",
    "        for n in (\n",
    "            find_overlaps(ah, bh) +\n",
    "            find_overlaps(av, bv) +\n",
    "            find_crosses(ah, bv) +\n",
    "            find_crosses(av, bh)\n",
    "        )\n",
    "        if n\n",
    "    ])\n"
   ]
  },
  {
   "cell_type": "code",
   "execution_count": 32,
   "metadata": {
    "ExecuteTime": {
     "end_time": "2019-12-03T07:08:53.528399Z",
     "start_time": "2019-12-03T07:08:53.496079Z"
    }
   },
   "outputs": [
    {
     "data": {
      "text/plain": [
       "91518"
      ]
     },
     "execution_count": 32,
     "metadata": {},
     "output_type": "execute_result"
    }
   ],
   "source": [
    "solve(a,b)"
   ]
  },
  {
   "cell_type": "code",
   "execution_count": null,
   "metadata": {},
   "outputs": [],
   "source": []
  }
 ],
 "metadata": {
  "kernelspec": {
   "display_name": "Python 3",
   "language": "python",
   "name": "python3"
  },
  "language_info": {
   "codemirror_mode": {
    "name": "ipython",
    "version": 3
   },
   "file_extension": ".py",
   "mimetype": "text/x-python",
   "name": "python",
   "nbconvert_exporter": "python",
   "pygments_lexer": "ipython3",
   "version": "3.5.0"
  },
  "toc": {
   "base_numbering": 1,
   "nav_menu": {},
   "number_sections": true,
   "sideBar": true,
   "skip_h1_title": false,
   "title_cell": "Table of Contents",
   "title_sidebar": "Contents",
   "toc_cell": false,
   "toc_position": {},
   "toc_section_display": true,
   "toc_window_display": false
  }
 },
 "nbformat": 4,
 "nbformat_minor": 2
}

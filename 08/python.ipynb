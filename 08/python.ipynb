{
 "cells": [
  {
   "cell_type": "code",
   "execution_count": 4,
   "metadata": {
    "ExecuteTime": {
     "end_time": "2019-12-08T05:29:43.241390Z",
     "start_time": "2019-12-08T05:29:43.237086Z"
    }
   },
   "outputs": [],
   "source": [
    "width = 25\n",
    "height = 6\n",
    "\n",
    "size = width * height\n",
    "\n",
    "with open('input.txt', 'r') as f:\n",
    "    bits = f.read()\n"
   ]
  },
  {
   "cell_type": "code",
   "execution_count": 7,
   "metadata": {
    "ExecuteTime": {
     "end_time": "2019-12-08T05:30:05.777342Z",
     "start_time": "2019-12-08T05:30:05.773468Z"
    }
   },
   "outputs": [],
   "source": [
    "def chunks(l, n): \n",
    "    for i in range(0, len(l), n):  \n",
    "        yield l[i:i + n]"
   ]
  },
  {
   "cell_type": "code",
   "execution_count": 8,
   "metadata": {
    "ExecuteTime": {
     "end_time": "2019-12-08T05:30:07.089937Z",
     "start_time": "2019-12-08T05:30:07.084572Z"
    }
   },
   "outputs": [],
   "source": [
    "from collections import Counter\n",
    "\n",
    "counts = []\n",
    "layers = []\n",
    "for layer in chunks(bits, size):\n",
    "    counts.append(Counter(layer))\n",
    "    layers.append(layer)\n",
    "    "
   ]
  },
  {
   "cell_type": "code",
   "execution_count": 9,
   "metadata": {
    "ExecuteTime": {
     "end_time": "2019-12-08T05:30:08.594067Z",
     "start_time": "2019-12-08T05:30:08.588405Z"
    }
   },
   "outputs": [
    {
     "data": {
      "text/plain": [
       "Counter({'0': 8, '1': 14, '2': 128})"
      ]
     },
     "execution_count": 9,
     "metadata": {},
     "output_type": "execute_result"
    }
   ],
   "source": [
    "sorted(counts, key=lambda l: l['0'])[0]"
   ]
  },
  {
   "cell_type": "code",
   "execution_count": 33,
   "metadata": {
    "ExecuteTime": {
     "end_time": "2019-12-08T05:13:39.455270Z",
     "start_time": "2019-12-08T05:13:39.450909Z"
    }
   },
   "outputs": [
    {
     "data": {
      "text/plain": [
       "1792"
      ]
     },
     "execution_count": 33,
     "metadata": {},
     "output_type": "execute_result"
    }
   ],
   "source": [
    "128 * 14"
   ]
  },
  {
   "cell_type": "code",
   "execution_count": 11,
   "metadata": {
    "ExecuteTime": {
     "end_time": "2019-12-08T05:30:27.450508Z",
     "start_time": "2019-12-08T05:30:27.439659Z"
    }
   },
   "outputs": [
    {
     "name": "stdout",
     "output_type": "stream",
     "text": [
      "X      XX XXXX  XX  X  X \n",
      "X       X X    X  X X  X \n",
      "X       X XXX  X    XXXX \n",
      "X       X X    X    X  X \n",
      "X    X  X X    X  X X  X \n",
      "XXXX  XX  XXXX  XX  X  X \n"
     ]
    }
   ],
   "source": [
    "final = [None] * size\n",
    "for l in layers[::-1]:\n",
    "    for i, b in enumerate(l):\n",
    "        if b == '2':\n",
    "            continue\n",
    "        final[i] = ' ' if b == '0' else 'X'\n",
    "\n",
    "for row in chunks(final, width):\n",
    "    print(''.join(row))"
   ]
  },
  {
   "cell_type": "code",
   "execution_count": null,
   "metadata": {},
   "outputs": [],
   "source": []
  },
  {
   "cell_type": "code",
   "execution_count": null,
   "metadata": {},
   "outputs": [],
   "source": []
  }
 ],
 "metadata": {
  "kernelspec": {
   "display_name": "Python 3",
   "language": "python",
   "name": "python3"
  },
  "language_info": {
   "codemirror_mode": {
    "name": "ipython",
    "version": 3
   },
   "file_extension": ".py",
   "mimetype": "text/x-python",
   "name": "python",
   "nbconvert_exporter": "python",
   "pygments_lexer": "ipython3",
   "version": "3.5.0"
  },
  "toc": {
   "base_numbering": 1,
   "nav_menu": {},
   "number_sections": true,
   "sideBar": true,
   "skip_h1_title": false,
   "title_cell": "Table of Contents",
   "title_sidebar": "Contents",
   "toc_cell": false,
   "toc_position": {},
   "toc_section_display": true,
   "toc_window_display": false
  }
 },
 "nbformat": 4,
 "nbformat_minor": 2
}

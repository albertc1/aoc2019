{
 "cells": [
  {
   "cell_type": "code",
   "execution_count": 4,
   "metadata": {
    "ExecuteTime": {
     "end_time": "2019-12-04T09:11:15.166334Z",
     "start_time": "2019-12-04T09:11:14.638152Z"
    }
   },
   "outputs": [
    {
     "data": {
      "text/plain": [
       "1873"
      ]
     },
     "execution_count": 4,
     "metadata": {},
     "output_type": "execute_result"
    }
   ],
   "source": [
    "low, high = (136760,595730)\n",
    "\n",
    "count = 0\n",
    "for i in range(low, high + 1):\n",
    "    prev = '0'\n",
    "    has_double = 0\n",
    "    for c in str(i):\n",
    "        if c < prev:\n",
    "            break\n",
    "        if c == prev:\n",
    "            has_double = 1\n",
    "        prev = c\n",
    "    else:\n",
    "        count += has_double\n",
    "\n",
    "count"
   ]
  },
  {
   "cell_type": "code",
   "execution_count": 6,
   "metadata": {
    "ExecuteTime": {
     "end_time": "2019-12-04T09:17:10.675566Z",
     "start_time": "2019-12-04T09:17:10.063200Z"
    }
   },
   "outputs": [
    {
     "data": {
      "text/plain": [
       "1264"
      ]
     },
     "execution_count": 6,
     "metadata": {},
     "output_type": "execute_result"
    }
   ],
   "source": [
    "count = 0\n",
    "for i in range(low, high + 1):\n",
    "    prev = '0'\n",
    "    doubles = 0\n",
    "    consecutive = 1\n",
    "    for c in str(i):\n",
    "        if c < prev:\n",
    "            break\n",
    "        if c == prev:\n",
    "            consecutive += 1\n",
    "            if consecutive == 2:\n",
    "                doubles += 1\n",
    "            elif consecutive == 3:\n",
    "                doubles -= 1\n",
    "        else:\n",
    "            consecutive = 1\n",
    "            prev = c\n",
    "    else:\n",
    "        count += 1 if doubles else 0\n",
    "\n",
    "count"
   ]
  },
  {
   "cell_type": "code",
   "execution_count": null,
   "metadata": {},
   "outputs": [],
   "source": []
  }
 ],
 "metadata": {
  "kernelspec": {
   "display_name": "Python 3",
   "language": "python",
   "name": "python3"
  },
  "language_info": {
   "codemirror_mode": {
    "name": "ipython",
    "version": 3
   },
   "file_extension": ".py",
   "mimetype": "text/x-python",
   "name": "python",
   "nbconvert_exporter": "python",
   "pygments_lexer": "ipython3",
   "version": "3.5.0"
  },
  "toc": {
   "base_numbering": 1,
   "nav_menu": {},
   "number_sections": true,
   "sideBar": true,
   "skip_h1_title": false,
   "title_cell": "Table of Contents",
   "title_sidebar": "Contents",
   "toc_cell": false,
   "toc_position": {},
   "toc_section_display": true,
   "toc_window_display": false
  }
 },
 "nbformat": 4,
 "nbformat_minor": 2
}

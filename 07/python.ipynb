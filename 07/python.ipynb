{
 "cells": [
  {
   "cell_type": "code",
   "execution_count": null,
   "metadata": {
    "ExecuteTime": {
     "end_time": "2019-12-07T22:08:45.487503Z",
     "start_time": "2019-12-07T22:08:45.478655Z"
    }
   },
   "outputs": [],
   "source": [
    "def registry(registry_key):\n",
    "    \"\"\"Return a metaclass that enables fetching subclasses by an arbitrary key.\n",
    "\n",
    "    Args:\n",
    "        registry_key (str): class attribute to use for indexing/retrieving subclasses\n",
    "    Returns:\n",
    "        type: metaclass to be used in the base class\n",
    "\n",
    "    Example usage:\n",
    "        >>> class Base(metaclass=registry('platform')):\n",
    "        ...    platform = None\n",
    "        >>>\n",
    "        >>> class Youtube(Base):\n",
    "        ...    platform = 'yt'\n",
    "        >>>\n",
    "        >>> class Facebook(Base):\n",
    "        ...   platform = 'fb'\n",
    "        >>>\n",
    "\n",
    "        >>> Base.registry['yt']\n",
    "        <class 'swissarmy.class_registry.Youtube'>\n",
    "\n",
    "        >>> Base.registry['fb']\n",
    "        <class 'swissarmy.class_registry.Facebook'>\n",
    "    \"\"\"\n",
    "\n",
    "    class Registry(type):\n",
    "        def __init__(cls, name, bases, classdict):\n",
    "            super(Registry, cls).__init__(name, bases, classdict)\n",
    "            if not hasattr(cls, 'registry'):\n",
    "                cls.registry = {}\n",
    "            key = classdict.get(registry_key, None)\n",
    "            if key is not None:\n",
    "                if key in cls.registry:\n",
    "                    raise Exception('Duplicate registry key found: %s' % key)\n",
    "                cls.registry[key] = cls\n",
    "\n",
    "    return Registry\n"
   ]
  },
  {
   "cell_type": "code",
   "execution_count": 34,
   "metadata": {
    "ExecuteTime": {
     "end_time": "2019-12-07T22:25:58.333329Z",
     "start_time": "2019-12-07T22:25:58.307421Z"
    }
   },
   "outputs": [],
   "source": [
    "from collections import deque\n",
    "\n",
    "\n",
    "class Op(metaclass=registry('opcode')):\n",
    "    opcode = None\n",
    "    arg_count = None\n",
    "\n",
    "    def __init__(self, mem, input_func, output_func = None):\n",
    "        self.mem = mem\n",
    "        self.read_input = input_func\n",
    "        self.write_output = output_func\n",
    "\n",
    "    def run(self, ip, arg_modes):\n",
    "        self.arg_modes = '0000' + str(arg_modes)\n",
    "        self.ip = ip\n",
    "        new_ip = self._run()\n",
    "        if new_ip is None:\n",
    "            new_ip = ip + self.arg_count + 1\n",
    "        return new_ip\n",
    "\n",
    "    def val(self, arg_num):\n",
    "        val = self.arg(arg_num)\n",
    "        if self.arg_modes[-arg_num] == '0':\n",
    "            return self.mem[val]\n",
    "        else:\n",
    "            return val\n",
    "\n",
    "    def arg(self, arg_num):\n",
    "        return self.mem[self.ip + arg_num]\n",
    "    \n",
    "    def store(self, value, arg_num=3):\n",
    "        self.mem[self.arg(arg_num)] = value\n",
    "    \n",
    "    def _run(self):\n",
    "        pass\n",
    "\n",
    "class Add(Op):\n",
    "    opcode = 1\n",
    "    arg_count = 3\n",
    "    \n",
    "    def _run(self):\n",
    "        self.store(self.val(1) + self.val(2))\n",
    "\n",
    "class Mult(Op):\n",
    "    opcode = 2\n",
    "    arg_count = 3\n",
    "    \n",
    "    def _run(self):\n",
    "        self.store(self.val(1) * self.val(2))\n",
    "\n",
    "class Halt(Op):\n",
    "    opcode = 99\n",
    "    arg_count = 0\n",
    "\n",
    "    def _run(self):\n",
    "        raise Halt()\n",
    "\n",
    "class Input(Op):\n",
    "    opcode = 3\n",
    "    arg_count = 1\n",
    "    \n",
    "    def _run(self):\n",
    "        self.store(self.read_input(), 1)\n",
    "\n",
    "class Output(Op):\n",
    "    opcode = 4\n",
    "    arg_count = 1\n",
    "\n",
    "    def _run(self):\n",
    "        self.write_output(self.val(1))\n",
    "\n",
    "class JumpIfTrue(Op):\n",
    "    opcode = 5\n",
    "    arg_count = 2\n",
    "\n",
    "    def _run(self):\n",
    "        if self.val(1):\n",
    "            return self.val(2)\n",
    "\n",
    "class JumpIfFalse(Op):\n",
    "    opcode = 6\n",
    "    arg_count = 2\n",
    "    \n",
    "    def _run(self):\n",
    "        if not self.val(1):\n",
    "            return self.val(2)\n",
    "\n",
    "class LessThan(Op):\n",
    "    opcode = 7\n",
    "    arg_count = 3\n",
    "\n",
    "    def _run(self):\n",
    "        self.store(1 if self.val(1) < self.val(2) else 0)\n",
    "\n",
    "class Equals(Op):\n",
    "    opcode = 8\n",
    "    arg_count = 3\n",
    "    \n",
    "    def _run(self):\n",
    "        self.store(1 if self.val(1) == self.val(2) else 0)\n",
    "\n",
    "class NoInput(Exception):\n",
    "    pass\n",
    "\n",
    "\n",
    "class Halt(Exception):\n",
    "    pass\n",
    "\n",
    "class Amp:\n",
    "    next_id = 0\n",
    "    \n",
    "    @classmethod\n",
    "    def generate_id(cls):\n",
    "        cls.next_id += 1\n",
    "        return 'amp_{}'.format(cls.next_id)\n",
    "    \n",
    "    def __init__(self, program, inputs, output_callback=None, name=None, debug=False):\n",
    "        self.mem = [int(o) for o in program.strip().split(',')]\n",
    "        self.ip = 0\n",
    "        self.inputs = deque(inputs)\n",
    "        self.last_output = None\n",
    "        self.name = name or self.generate_id()\n",
    "        self._debug = debug\n",
    "        self.ops = [None] * 100\n",
    "        for opcode, klass in Op.registry.items():\n",
    "            self.ops[opcode] = klass(self.mem, self._read_input)\n",
    "        self.set_output_callback(output_callback)\n",
    "        self.set_state('init')\n",
    "        \n",
    "    def set_output_callback(self, func):\n",
    "        def cb(val):\n",
    "            self.last_output = val\n",
    "            self.debug(val)\n",
    "            if func:\n",
    "                func(val)\n",
    "        self._write_output = cb\n",
    "        for op in self.ops:\n",
    "            if op is not None:\n",
    "                op.write_output = self._write_output\n",
    "        \n",
    "    def _read_input(self):\n",
    "        if not self.inputs:\n",
    "            raise NoInput()\n",
    "        output = self.inputs.popleft()\n",
    "        self.debug(\"read input {}\".format(output))\n",
    "        return output\n",
    "\n",
    "    def add_input(self, val):\n",
    "        self.inputs.append(val)\n",
    "        if self.state == 'paused':\n",
    "            self.run()\n",
    "\n",
    "    def run(self):\n",
    "        self.set_state('running')\n",
    "        while True:\n",
    "            arg_modes, opcode = divmod(self.mem[self.ip], 100)\n",
    "            try:\n",
    "#                 self.debug(self.ops[opcode].__class__)\n",
    "#                 self.debug(self.ip)\n",
    "                self.ip = self.ops[opcode].run(self.ip, arg_modes)\n",
    "            except NoInput:\n",
    "                self.set_state('paused')\n",
    "                return\n",
    "            except Halt:\n",
    "                self.set_state('done')\n",
    "                return self.last_output\n",
    "    \n",
    "    def set_state(self, state):\n",
    "        self.state = state\n",
    "        self.debug(state)\n",
    "    \n",
    "    def debug(self, msg):\n",
    "        if self._debug:\n",
    "            print('{}: {}'.format(self.name, msg))\n"
   ]
  },
  {
   "cell_type": "code",
   "execution_count": 35,
   "metadata": {
    "ExecuteTime": {
     "end_time": "2019-12-07T22:26:00.596523Z",
     "start_time": "2019-12-07T22:26:00.438581Z"
    },
    "scrolled": true
   },
   "outputs": [
    {
     "data": {
      "text/plain": [
       "118936"
      ]
     },
     "execution_count": 35,
     "metadata": {},
     "output_type": "execute_result"
    }
   ],
   "source": [
    "with open('input.txt', 'r') as f:\n",
    "    program = f.read()\n",
    "\n",
    "from itertools import permutations\n",
    "\n",
    "max_output = -1000000000\n",
    "for phases in permutations(range(5)):\n",
    "    output = 0\n",
    "    for phase_setting in phases:\n",
    "        output = Amp(program, [phase_setting, output], debug=False).run()\n",
    "    max_output = max(max_output, output)\n",
    "\n",
    "max_output\n",
    "    "
   ]
  },
  {
   "cell_type": "code",
   "execution_count": 36,
   "metadata": {
    "ExecuteTime": {
     "end_time": "2019-12-07T22:26:02.637157Z",
     "start_time": "2019-12-07T22:26:02.630829Z"
    }
   },
   "outputs": [],
   "source": [
    "def part2(prog, perms, debug=False):\n",
    "    max_output = -1000000000\n",
    "    max_phases = None\n",
    "    for phases in perms:\n",
    "        amps = [Amp(prog, [phase_setting], debug=debug) for phase_setting in phases]\n",
    "        for amp0, amp1 in zip(amps[-1:] + amps[:-1], amps):\n",
    "            amp0.set_output_callback(amp1.add_input)\n",
    "        amps[0].add_input(0)\n",
    "        while amps[-1].state != 'done':\n",
    "            for amp in amps:\n",
    "                amp.run()\n",
    "        if amps[-1].last_output > max_output:\n",
    "            max_phases = phases\n",
    "            max_output = amps[-1].last_output\n",
    "\n",
    "    return max_output, max_phases\n"
   ]
  },
  {
   "cell_type": "code",
   "execution_count": 37,
   "metadata": {
    "ExecuteTime": {
     "end_time": "2019-12-07T22:26:05.029792Z",
     "start_time": "2019-12-07T22:26:05.022791Z"
    },
    "scrolled": true
   },
   "outputs": [
    {
     "data": {
      "text/plain": [
       "(139629729, (9, 8, 7, 6, 5))"
      ]
     },
     "execution_count": 37,
     "metadata": {},
     "output_type": "execute_result"
    }
   ],
   "source": [
    "test = '3,26,1001,26,-4,26,3,27,1002,27,2,27,1,27,26,27,4,27,1001,28,-1,28,1005,28,6,99,0,0,5'\n",
    "part2(test, [(9,8,7,6,5)], debug=False)\n"
   ]
  },
  {
   "cell_type": "code",
   "execution_count": 38,
   "metadata": {
    "ExecuteTime": {
     "end_time": "2019-12-07T22:26:05.969021Z",
     "start_time": "2019-12-07T22:26:05.838843Z"
    },
    "scrolled": false
   },
   "outputs": [
    {
     "data": {
      "text/plain": [
       "(139629729, (9, 8, 7, 6, 5))"
      ]
     },
     "execution_count": 38,
     "metadata": {},
     "output_type": "execute_result"
    }
   ],
   "source": [
    "part2(test, permutations(range(5,10)))"
   ]
  },
  {
   "cell_type": "code",
   "execution_count": 39,
   "metadata": {
    "ExecuteTime": {
     "end_time": "2019-12-07T22:26:07.088616Z",
     "start_time": "2019-12-07T22:26:06.685548Z"
    },
    "scrolled": true
   },
   "outputs": [
    {
     "data": {
      "text/plain": [
       "(18216, (9, 7, 8, 5, 6))"
      ]
     },
     "execution_count": 39,
     "metadata": {},
     "output_type": "execute_result"
    }
   ],
   "source": [
    "test2 = '3,52,1001,52,-5,52,3,53,1,52,56,54,1007,54,5,55,1005,55,26,1001,54,-5,54,1105,1,12,1,53,54,53,1008,54,0,55,1001,55,1,55,2,53,55,53,4,53,1001,56,-1,56,1005,56,6,99,0,0,0,0,10'\n",
    "part2(test2, permutations(range(5,10)))"
   ]
  },
  {
   "cell_type": "code",
   "execution_count": 33,
   "metadata": {
    "ExecuteTime": {
     "end_time": "2019-12-07T22:21:40.992924Z",
     "start_time": "2019-12-07T22:21:40.767066Z"
    },
    "scrolled": false
   },
   "outputs": [
    {
     "data": {
      "text/plain": [
       "(57660948, (9, 7, 6, 5, 8))"
      ]
     },
     "execution_count": 33,
     "metadata": {},
     "output_type": "execute_result"
    }
   ],
   "source": [
    "part2(program, permutations(range(5,10)))"
   ]
  },
  {
   "cell_type": "code",
   "execution_count": 41,
   "metadata": {
    "ExecuteTime": {
     "end_time": "2019-12-07T22:27:43.994095Z",
     "start_time": "2019-12-07T22:27:33.265768Z"
    },
    "scrolled": true
   },
   "outputs": [
    {
     "name": "stdout",
     "output_type": "stream",
     "text": [
      "         833645 function calls (747245 primitive calls) in 4.265 seconds\n",
      "\n",
      "   Ordered by: standard name\n",
      "\n",
      "   ncalls  tottime  percall  cumtime  percall filename:lineno(function)\n",
      "     6120    0.012    0.000    0.012    0.000 :0(append)\n",
      "    98520    0.218    0.000    0.218    0.000 :0(divmod)\n",
      "        1    0.000    0.000    4.265    4.265 :0(exec)\n",
      "     7200    0.019    0.000    0.019    0.000 :0(format)\n",
      "      600    0.002    0.000    0.002    0.000 :0(items)\n",
      "     6600    0.014    0.000    0.014    0.000 :0(popleft)\n",
      "        1    0.000    0.000    0.000    0.000 :0(setprofile)\n",
      "      600    0.004    0.000    0.004    0.000 :0(split)\n",
      "      600    0.002    0.000    0.002    0.000 :0(strip)\n",
      "      600    0.003    0.000    0.005    0.000 <ipython-input-34-d34973b197ab>:112(generate_id)\n",
      "      600    0.038    0.000    0.089    0.000 <ipython-input-34-d34973b197ab>:117(__init__)\n",
      "      600    0.012    0.000    0.012    0.000 <ipython-input-34-d34973b197ab>:118(<listcomp>)\n",
      "98520/29400    0.585    0.000    3.909    0.000 <ipython-input-34-d34973b197ab>:13(run)\n",
      "     1200    0.017    0.000    0.017    0.000 <ipython-input-34-d34973b197ab>:130(set_output_callback)\n",
      "6000/1680    0.046    0.000    2.951    0.002 <ipython-input-34-d34973b197ab>:131(cb)\n",
      "    10920    0.075    0.000    0.120    0.000 <ipython-input-34-d34973b197ab>:141(_read_input)\n",
      "6120/1800    0.042    0.000    2.935    0.002 <ipython-input-34-d34973b197ab>:148(add_input)\n",
      " 4920/600    0.610    0.000    4.157    0.007 <ipython-input-34-d34973b197ab>:153(run)\n",
      "    10440    0.051    0.000    0.073    0.000 <ipython-input-34-d34973b197ab>:168(set_state)\n",
      "    23040    0.049    0.000    0.049    0.000 <ipython-input-34-d34973b197ab>:172(debug)\n",
      "   160800    0.813    0.000    1.170    0.000 <ipython-input-34-d34973b197ab>:21(val)\n",
      "   223200    0.494    0.000    0.494    0.000 <ipython-input-34-d34973b197ab>:28(arg)\n",
      "    62400    0.297    0.000    0.434    0.000 <ipython-input-34-d34973b197ab>:31(store)\n",
      "    31200    0.311    0.000    0.982    0.000 <ipython-input-34-d34973b197ab>:41(_run)\n",
      "     6000    0.060    0.000    0.189    0.000 <ipython-input-34-d34973b197ab>:48(_run)\n",
      "      600    0.002    0.000    0.002    0.000 <ipython-input-34-d34973b197ab>:55(_run)\n",
      "    10920    0.070    0.000    0.236    0.000 <ipython-input-34-d34973b197ab>:62(_run)\n",
      "6000/1680    0.046    0.000    2.976    0.002 <ipython-input-34-d34973b197ab>:69(_run)\n",
      "    25200    0.167    0.000    0.481    0.000 <ipython-input-34-d34973b197ab>:76(_run)\n",
      "     5400    0.015    0.000    0.015    0.000 <ipython-input-34-d34973b197ab>:8(__init__)\n",
      "    12600    0.125    0.000    0.396    0.000 <ipython-input-34-d34973b197ab>:92(_run)\n",
      "     6000    0.060    0.000    0.188    0.000 <ipython-input-34-d34973b197ab>:99(_run)\n",
      "        1    0.006    0.006    4.264    4.264 <ipython-input-36-28fe253d8e2b>:1(part2)\n",
      "      120    0.003    0.000    0.092    0.001 <ipython-input-36-28fe253d8e2b>:5(<listcomp>)\n",
      "        1    0.000    0.000    4.264    4.264 <string>:1(<module>)\n",
      "        1    0.000    0.000    4.265    4.265 profile:0(part2(test2, permutations(range(5,10))))\n",
      "        0    0.000             0.000          profile:0(profiler)\n",
      "\n",
      "\n"
     ]
    }
   ],
   "source": [
    "test2 = '3,52,1001,52,-5,52,3,53,1,52,56,54,1007,54,5,55,1005,55,26,1001,54,-5,54,1105,1,12,1,53,54,53,1008,54,0,55,1001,55,1,55,2,53,55,53,4,53,1001,56,-1,56,1005,56,6,99,0,0,0,0,10'\n",
    "import profile\n",
    "\n",
    "profile.run('part2(test2, permutations(range(5,10)))')"
   ]
  },
  {
   "cell_type": "code",
   "execution_count": null,
   "metadata": {},
   "outputs": [],
   "source": []
  }
 ],
 "metadata": {
  "kernelspec": {
   "display_name": "Python 3",
   "language": "python",
   "name": "python3"
  },
  "language_info": {
   "codemirror_mode": {
    "name": "ipython",
    "version": 3
   },
   "file_extension": ".py",
   "mimetype": "text/x-python",
   "name": "python",
   "nbconvert_exporter": "python",
   "pygments_lexer": "ipython3",
   "version": "3.5.0"
  },
  "toc": {
   "base_numbering": 1,
   "nav_menu": {},
   "number_sections": true,
   "sideBar": true,
   "skip_h1_title": false,
   "title_cell": "Table of Contents",
   "title_sidebar": "Contents",
   "toc_cell": false,
   "toc_position": {},
   "toc_section_display": true,
   "toc_window_display": false
  }
 },
 "nbformat": 4,
 "nbformat_minor": 2
}

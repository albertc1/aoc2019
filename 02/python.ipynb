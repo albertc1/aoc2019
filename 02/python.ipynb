{
 "cells": [
  {
   "cell_type": "code",
   "execution_count": 29,
   "metadata": {
    "ExecuteTime": {
     "end_time": "2019-12-02T05:30:29.574373Z",
     "start_time": "2019-12-02T05:30:29.564592Z"
    }
   },
   "outputs": [
    {
     "data": {
      "text/plain": [
       "6568671"
      ]
     },
     "execution_count": 29,
     "metadata": {},
     "output_type": "execute_result"
    }
   ],
   "source": [
    "with open('input.txt', 'r') as f:\n",
    "    ops = f.read().strip().split(',')\n",
    "#     ops = '1,9,10,3,2,3,11,0,99,30,40,50'.split(',')\n",
    "ops = [int(o) for o in ops]\n",
    "ops[1:3] = [12, 2]\n",
    "\n",
    "i = 0\n",
    "while True:\n",
    "    op = ops[i]\n",
    "    if op == 99:\n",
    "        break\n",
    "    r1, r2, r3 = ops[i+1: i+4]\n",
    "    if op == 1:\n",
    "        ops[r3] = ops[r1] + ops[r2]\n",
    "    elif op == 2:\n",
    "        ops[r3] = ops[r1] * ops[r2]\n",
    "    else:\n",
    "        raise Exception('unknown opcode {}'.format(op))\n",
    "    i += 4\n",
    "#     print(','.join([str(i) for i in ops]))\n",
    "ops[0]\n"
   ]
  },
  {
   "cell_type": "code",
   "execution_count": 30,
   "metadata": {
    "ExecuteTime": {
     "end_time": "2019-12-02T05:31:36.036970Z",
     "start_time": "2019-12-02T05:31:36.026441Z"
    }
   },
   "outputs": [
    {
     "data": {
      "text/plain": [
       "6568671"
      ]
     },
     "execution_count": 30,
     "metadata": {},
     "output_type": "execute_result"
    }
   ],
   "source": [
    "with open('input.txt', 'r') as f:\n",
    "    ops = f.read().strip().split(',')\n",
    "#     ops = '1,9,10,3,2,3,11,0,99,30,40,50'.split(',')\n",
    "base = [int(o) for o in ops]\n",
    "\n",
    "def run(ops, noun, verb):\n",
    "    ops = ops.copy()\n",
    "    ops[1:3] = [noun, verb]\n",
    "    i = 0\n",
    "    while True:\n",
    "        op = ops[i]\n",
    "        if op == 99:\n",
    "            break\n",
    "        r1, r2, r3 = ops[i+1: i+4]\n",
    "        if op == 1:\n",
    "            ops[r3] = ops[r1] + ops[r2]\n",
    "        elif op == 2:\n",
    "            ops[r3] = ops[r1] * ops[r2]\n",
    "        else:\n",
    "            raise Exception('unknown opcode {}'.format(op))\n",
    "        i += 4\n",
    "    return ops[0]\n",
    "\n",
    "run(base, 12, 2)"
   ]
  },
  {
   "cell_type": "code",
   "execution_count": 31,
   "metadata": {
    "ExecuteTime": {
     "end_time": "2019-12-02T05:31:40.521312Z",
     "start_time": "2019-12-02T05:31:40.377439Z"
    }
   },
   "outputs": [
    {
     "data": {
      "text/plain": [
       "(39, 51)"
      ]
     },
     "execution_count": 31,
     "metadata": {},
     "output_type": "execute_result"
    }
   ],
   "source": [
    "target = 19690720\n",
    "def loop():\n",
    "    for n in range(100):\n",
    "        for v in range(100):\n",
    "            if run(base, n, v) == target:\n",
    "                return n, v\n",
    "loop()"
   ]
  },
  {
   "cell_type": "code",
   "execution_count": null,
   "metadata": {},
   "outputs": [],
   "source": []
  }
 ],
 "metadata": {
  "kernelspec": {
   "display_name": "Python 3",
   "language": "python",
   "name": "python3"
  },
  "language_info": {
   "codemirror_mode": {
    "name": "ipython",
    "version": 3
   },
   "file_extension": ".py",
   "mimetype": "text/x-python",
   "name": "python",
   "nbconvert_exporter": "python",
   "pygments_lexer": "ipython3",
   "version": "3.5.0"
  },
  "toc": {
   "base_numbering": 1,
   "nav_menu": {},
   "number_sections": true,
   "sideBar": true,
   "skip_h1_title": false,
   "title_cell": "Table of Contents",
   "title_sidebar": "Contents",
   "toc_cell": false,
   "toc_position": {},
   "toc_section_display": true,
   "toc_window_display": false
  }
 },
 "nbformat": 4,
 "nbformat_minor": 2
}

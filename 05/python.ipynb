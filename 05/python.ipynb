{
 "cells": [
  {
   "cell_type": "code",
   "execution_count": 25,
   "metadata": {
    "ExecuteTime": {
     "end_time": "2019-12-05T09:12:13.351589Z",
     "start_time": "2019-12-05T09:12:13.344523Z"
    }
   },
   "outputs": [],
   "source": [
    "def registry(registry_key):\n",
    "    \"\"\"Return a metaclass that enables fetching subclasses by an arbitrary key.\n",
    "\n",
    "    Args:\n",
    "        registry_key (str): class attribute to use for indexing/retrieving subclasses\n",
    "    Returns:\n",
    "        type: metaclass to be used in the base class\n",
    "\n",
    "    Example usage:\n",
    "        >>> class Base(metaclass=registry('platform')):\n",
    "        ...    platform = None\n",
    "        >>>\n",
    "        >>> class Youtube(Base):\n",
    "        ...    platform = 'yt'\n",
    "        >>>\n",
    "        >>> class Facebook(Base):\n",
    "        ...   platform = 'fb'\n",
    "        >>>\n",
    "\n",
    "        >>> Base.registry['yt']\n",
    "        <class 'swissarmy.class_registry.Youtube'>\n",
    "\n",
    "        >>> Base.registry['fb']\n",
    "        <class 'swissarmy.class_registry.Facebook'>\n",
    "    \"\"\"\n",
    "\n",
    "    class Registry(type):\n",
    "        def __init__(cls, name, bases, classdict):\n",
    "            super(Registry, cls).__init__(name, bases, classdict)\n",
    "            if not hasattr(cls, 'registry'):\n",
    "                cls.registry = {}\n",
    "            key = classdict.get(registry_key, None)\n",
    "            if key is not None:\n",
    "                if key in cls.registry:\n",
    "                    raise Exception('Duplicate registry key found: %s' % key)\n",
    "                cls.registry[key] = cls\n",
    "\n",
    "    return Registry\n"
   ]
  },
  {
   "cell_type": "code",
   "execution_count": 33,
   "metadata": {
    "ExecuteTime": {
     "end_time": "2019-12-05T09:18:35.298117Z",
     "start_time": "2019-12-05T09:18:35.281387Z"
    }
   },
   "outputs": [],
   "source": [
    "class Op(metaclass=registry('opcode')):\n",
    "    opcode = None\n",
    "\n",
    "    @classmethod\n",
    "    def run(cls, mem, ip, inp):\n",
    "        cls.modes = '0000' + str(mem[ip] // 100)\n",
    "        cls.ip = ip\n",
    "        cls.mem = mem\n",
    "        cls.inp = inp\n",
    "        new_ip = cls.func()\n",
    "        return new_ip\n",
    "\n",
    "    @classmethod\n",
    "    def val(cls, arg_num):\n",
    "        val = cls.param(arg_num)\n",
    "        if cls.modes[-arg_num] == '0':\n",
    "            return cls.mem[val]\n",
    "        else:\n",
    "            return val\n",
    "\n",
    "    @classmethod\n",
    "    def param(cls, arg_num):\n",
    "        return cls.mem[cls.ip + arg_num]\n",
    "    \n",
    "    @classmethod\n",
    "    def store(cls, value, arg_num=3):\n",
    "        cls.mem[cls.param(arg_num)] = value\n",
    "        \n",
    "    @classmethod\n",
    "    def func(cls):\n",
    "        pass\n",
    "\n",
    "class Add(Op):\n",
    "    opcode = 1\n",
    "    \n",
    "    @classmethod\n",
    "    def func(cls):\n",
    "        cls.store(cls.val(1) + cls.val(2))\n",
    "        return cls.ip + 4\n",
    "\n",
    "class Mult(Op):\n",
    "    opcode = 2\n",
    "    \n",
    "    @classmethod\n",
    "    def func(cls):\n",
    "        cls.store(cls.val(1) * cls.val(2))\n",
    "        return cls.ip + 4\n",
    "\n",
    "class Halt(Op):\n",
    "    opcode = 99\n",
    "\n",
    "    @classmethod\n",
    "    def func(cls):\n",
    "        return None\n",
    "\n",
    "class Input(Op):\n",
    "    opcode = 3\n",
    "    \n",
    "    @classmethod\n",
    "    def func(cls):\n",
    "        cls.store(cls.inp, 1)\n",
    "        return cls.ip + 2\n",
    "\n",
    "class Output(Op):\n",
    "    opcode = 4\n",
    "    \n",
    "    @classmethod\n",
    "    def func(cls):\n",
    "        print(cls.val(1))\n",
    "        return cls.ip + 2\n",
    "\n",
    "class JumpIfTrue(Op):\n",
    "    opcode = 5\n",
    "    \n",
    "    @classmethod\n",
    "    def func(cls):\n",
    "        if cls.val(1):\n",
    "            return cls.val(2)\n",
    "        return cls.ip + 3\n",
    "\n",
    "class JumpIfFalse(Op):\n",
    "    opcode = 6\n",
    "    \n",
    "    @classmethod\n",
    "    def func(cls):\n",
    "        if cls.val(1):\n",
    "            return cls.ip + 3\n",
    "        return cls.val(2)\n",
    "\n",
    "class LessThan(Op):\n",
    "    opcode = 7\n",
    "    \n",
    "    @classmethod\n",
    "    def func(cls):\n",
    "        if cls.val(1) < cls.val(2):\n",
    "            cls.store(1)\n",
    "        else:\n",
    "            cls.store(0)\n",
    "        return cls.ip + 4\n",
    "\n",
    "class Equals(Op):\n",
    "    opcode = 8\n",
    "    \n",
    "    @classmethod\n",
    "    def func(cls):\n",
    "        if cls.val(1) == cls.val(2):\n",
    "            cls.store(1)\n",
    "        else:\n",
    "            cls.store(0)\n",
    "        return cls.ip + 4\n",
    "            \n",
    "class Test:\n",
    "    def __init__(self, program, inp):\n",
    "        self.program = program\n",
    "        self.inp = inp\n",
    "    \n",
    "    def run(self):\n",
    "        mem = [int(o) for o in self.program.strip().split(',')]\n",
    "        ip = 0\n",
    "        while ip is not None:\n",
    "            # parse op\n",
    "            opcode = mem[ip] % 100\n",
    "            op = Op.registry[opcode]\n",
    "            ip = op.run(mem, ip, self.inp)\n",
    "        print('Done!')\n",
    "            "
   ]
  },
  {
   "cell_type": "code",
   "execution_count": 31,
   "metadata": {
    "ExecuteTime": {
     "end_time": "2019-12-05T09:17:57.644905Z",
     "start_time": "2019-12-05T09:17:57.638089Z"
    }
   },
   "outputs": [
    {
     "name": "stdout",
     "output_type": "stream",
     "text": [
      "0\n",
      "0\n",
      "0\n",
      "0\n",
      "0\n",
      "0\n",
      "0\n",
      "0\n",
      "0\n",
      "15259545\n",
      "Done!\n"
     ]
    }
   ],
   "source": [
    "with open('input.txt', 'r') as f:\n",
    "    program = f.read()\n",
    "Test(program, 1).run()"
   ]
  },
  {
   "cell_type": "code",
   "execution_count": 32,
   "metadata": {
    "ExecuteTime": {
     "end_time": "2019-12-05T09:17:59.486380Z",
     "start_time": "2019-12-05T09:17:59.481534Z"
    }
   },
   "outputs": [
    {
     "name": "stdout",
     "output_type": "stream",
     "text": [
      "7616021\n",
      "Done!\n"
     ]
    }
   ],
   "source": [
    "Test(program, 5).run()"
   ]
  },
  {
   "cell_type": "code",
   "execution_count": null,
   "metadata": {},
   "outputs": [],
   "source": []
  }
 ],
 "metadata": {
  "kernelspec": {
   "display_name": "Python 3",
   "language": "python",
   "name": "python3"
  },
  "language_info": {
   "codemirror_mode": {
    "name": "ipython",
    "version": 3
   },
   "file_extension": ".py",
   "mimetype": "text/x-python",
   "name": "python",
   "nbconvert_exporter": "python",
   "pygments_lexer": "ipython3",
   "version": "3.5.0"
  },
  "toc": {
   "base_numbering": 1,
   "nav_menu": {},
   "number_sections": true,
   "sideBar": true,
   "skip_h1_title": false,
   "title_cell": "Table of Contents",
   "title_sidebar": "Contents",
   "toc_cell": false,
   "toc_position": {},
   "toc_section_display": true,
   "toc_window_display": false
  }
 },
 "nbformat": 4,
 "nbformat_minor": 2
}

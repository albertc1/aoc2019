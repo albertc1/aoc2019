{
 "cells": [
  {
   "cell_type": "code",
   "execution_count": 1,
   "metadata": {
    "ExecuteTime": {
     "end_time": "2019-12-09T05:17:13.368384Z",
     "start_time": "2019-12-09T05:17:13.357468Z"
    }
   },
   "outputs": [],
   "source": [
    "def registry(registry_key):\n",
    "    \"\"\"Return a metaclass that enables fetching subclasses by an arbitrary key.\n",
    "\n",
    "    Args:\n",
    "        registry_key (str): class attribute to use for indexing/retrieving subclasses\n",
    "    Returns:\n",
    "        type: metaclass to be used in the base class\n",
    "\n",
    "    Example usage:\n",
    "        >>> class Base(metaclass=registry('platform')):\n",
    "        ...    platform = None\n",
    "        >>>\n",
    "        >>> class Youtube(Base):\n",
    "        ...    platform = 'yt'\n",
    "        >>>\n",
    "        >>> class Facebook(Base):\n",
    "        ...   platform = 'fb'\n",
    "        >>>\n",
    "\n",
    "        >>> Base.registry['yt']\n",
    "        <class 'swissarmy.class_registry.Youtube'>\n",
    "\n",
    "        >>> Base.registry['fb']\n",
    "        <class 'swissarmy.class_registry.Facebook'>\n",
    "    \"\"\"\n",
    "\n",
    "    class Registry(type):\n",
    "        def __init__(cls, name, bases, classdict):\n",
    "            super(Registry, cls).__init__(name, bases, classdict)\n",
    "            if not hasattr(cls, 'registry'):\n",
    "                cls.registry = {}\n",
    "            key = classdict.get(registry_key, None)\n",
    "            if key is not None:\n",
    "                if key in cls.registry:\n",
    "                    raise Exception('Duplicate registry key found: %s' % key)\n",
    "                cls.registry[key] = cls\n",
    "\n",
    "    return Registry\n"
   ]
  },
  {
   "cell_type": "code",
   "execution_count": 50,
   "metadata": {
    "ExecuteTime": {
     "end_time": "2019-12-09T05:38:58.615194Z",
     "start_time": "2019-12-09T05:38:58.611016Z"
    },
    "scrolled": true
   },
   "outputs": [],
   "source": [
    "with open('input.txt', 'r') as f:\n",
    "    program = f.read()\n"
   ]
  },
  {
   "cell_type": "code",
   "execution_count": 82,
   "metadata": {
    "ExecuteTime": {
     "end_time": "2019-12-09T06:43:08.340110Z",
     "start_time": "2019-12-09T06:43:08.311240Z"
    }
   },
   "outputs": [],
   "source": [
    "from collections import defaultdict, deque\n",
    "\n",
    "\n",
    "class Op(metaclass=registry('opcode')):\n",
    "    opcode = None\n",
    "    arg_count = None\n",
    "\n",
    "    def __init__(self, mem, input_func, output_func = None):\n",
    "        self.mem = mem\n",
    "        self.read_input = input_func\n",
    "        self.write_output = output_func\n",
    "\n",
    "    def run(self, ip, arg_modes):\n",
    "        self.arg_modes = str(arg_modes)\n",
    "        self.ip = ip\n",
    "        new_ip = self._run()\n",
    "        if new_ip is None:\n",
    "            new_ip = ip + self.arg_count + 1\n",
    "        return new_ip\n",
    "\n",
    "    def val(self, arg_num, dereference=True):\n",
    "        val = self.mem[self.ip + arg_num]\n",
    "        try:\n",
    "            mode = self.arg_modes[-arg_num]\n",
    "        except IndexError:\n",
    "            mode = '0'\n",
    "        if mode == '1':\n",
    "            return val        \n",
    "        if mode == '2':\n",
    "            val += self.mem[-1]\n",
    "        if dereference:\n",
    "            return self.mem[val]\n",
    "        return val\n",
    "    \n",
    "    def store(self, value, arg_num=3):          \n",
    "        self.mem[self.val(arg_num, dereference=False)] = value\n",
    "    \n",
    "    def _run(self):\n",
    "        pass\n",
    "\n",
    "class Add(Op):\n",
    "    opcode = 1\n",
    "    arg_count = 3\n",
    "    \n",
    "    def _run(self):\n",
    "        self.store(self.val(1) + self.val(2))\n",
    "\n",
    "class Mult(Op):\n",
    "    opcode = 2\n",
    "    arg_count = 3\n",
    "    \n",
    "    def _run(self):\n",
    "        self.store(self.val(1) * self.val(2))\n",
    "\n",
    "class Input(Op):\n",
    "    opcode = 3\n",
    "    arg_count = 1\n",
    "    \n",
    "    def _run(self):\n",
    "        self.store(self.read_input(), 1)\n",
    "        \n",
    "class Output(Op):\n",
    "    opcode = 4\n",
    "    arg_count = 1\n",
    "\n",
    "    def _run(self):\n",
    "        self.write_output(self.val(1))\n",
    "\n",
    "class JumpIfTrue(Op):\n",
    "    opcode = 5\n",
    "    arg_count = 2\n",
    "\n",
    "    def _run(self):\n",
    "        if self.val(1):\n",
    "            return self.val(2)\n",
    "\n",
    "class JumpIfFalse(Op):\n",
    "    opcode = 6\n",
    "    arg_count = 2\n",
    "    \n",
    "    def _run(self):\n",
    "        if not self.val(1):\n",
    "            return self.val(2)\n",
    "\n",
    "class LessThan(Op):\n",
    "    opcode = 7\n",
    "    arg_count = 3\n",
    "\n",
    "    def _run(self):\n",
    "        self.store(1 if self.val(1) < self.val(2) else 0)\n",
    "\n",
    "class Equals(Op):\n",
    "    opcode = 8\n",
    "    arg_count = 3\n",
    "    \n",
    "    def _run(self):\n",
    "        self.store(1 if self.val(1) == self.val(2) else 0)\n",
    "\n",
    "class Relative(Op):\n",
    "    opcode = 9\n",
    "    arg_count = 1\n",
    "    \n",
    "    def _run(self):\n",
    "        self.mem[-1] += self.val(1)\n",
    "\n",
    "class Halt(Op):\n",
    "    opcode = 99\n",
    "    arg_count = 0\n",
    "\n",
    "    def _run(self):\n",
    "        raise Halt()\n",
    "        \n",
    "class NoInput(Exception):\n",
    "    pass\n",
    "\n",
    "\n",
    "class Halt(Exception):\n",
    "    pass\n",
    "\n",
    "class Amp:\n",
    "    next_id = 0\n",
    "    \n",
    "    @classmethod\n",
    "    def generate_id(cls):\n",
    "        cls.next_id += 1\n",
    "        return 'amp_{}'.format(cls.next_id)\n",
    "    \n",
    "    def __init__(self, program, inputs, output_callback=None, name=None, debug=False):\n",
    "        self.mem = defaultdict(int, ((i, int(val)) for i, val in enumerate(program.strip().split(','))))\n",
    "        self.ip = 0\n",
    "        self.inputs = deque(inputs)\n",
    "        self.last_output = None\n",
    "        self.name = name or self.generate_id()\n",
    "        self._debug = debug\n",
    "        self.ops = [None] * 100\n",
    "        for opcode, klass in Op.registry.items():\n",
    "            self.ops[opcode] = klass(self.mem, self._read_input)\n",
    "        self.set_output_callback(output_callback)\n",
    "        self.set_state('init')\n",
    "        \n",
    "    def set_output_callback(self, func):\n",
    "        def cb(val):\n",
    "            self.last_output = val\n",
    "            self.debug(val)\n",
    "            if func:\n",
    "                func(val)\n",
    "        self._write_output = cb\n",
    "        for op in self.ops:\n",
    "            if op is not None:\n",
    "                op.write_output = self._write_output\n",
    "        \n",
    "    def _read_input(self):\n",
    "        if not self.inputs:\n",
    "            raise NoInput()\n",
    "        output = self.inputs.popleft()\n",
    "        self.debug(\"read input {}\".format(output))\n",
    "        return output\n",
    "\n",
    "    def add_input(self, val):\n",
    "        self.inputs.append(val)\n",
    "        if self.state == 'paused':\n",
    "            self.run()\n",
    "\n",
    "    def run(self):\n",
    "        self.set_state('running')\n",
    "        while True:\n",
    "            arg_modes, opcode = divmod(self.mem[self.ip], 100)\n",
    "            try:\n",
    "                self.debug(self.ops[opcode].__class__.__name__)\n",
    "                self.debug((arg_modes, opcode))\n",
    "                self.debug(self.ip)\n",
    "                self.ip = self.ops[opcode].run(self.ip, arg_modes)\n",
    "            except NoInput:\n",
    "                self.set_state('paused')\n",
    "                return\n",
    "            except Halt:\n",
    "                self.set_state('done')\n",
    "                return self.last_output\n",
    "    \n",
    "    def set_state(self, state):\n",
    "        self.state = state\n",
    "        self.debug(state)\n",
    "    \n",
    "    def debug(self, msg):\n",
    "        if self._debug:\n",
    "            print('{}: {}'.format(self.name, msg))\n"
   ]
  },
  {
   "cell_type": "code",
   "execution_count": 84,
   "metadata": {
    "ExecuteTime": {
     "end_time": "2019-12-09T06:43:43.583669Z",
     "start_time": "2019-12-09T06:43:43.574645Z"
    }
   },
   "outputs": [
    {
     "name": "stdout",
     "output_type": "stream",
     "text": [
      "3063082071\n"
     ]
    },
    {
     "data": {
      "text/plain": [
       "3063082071"
      ]
     },
     "execution_count": 84,
     "metadata": {},
     "output_type": "execute_result"
    }
   ],
   "source": [
    "a = Amp(program, [1], output_callback=print)\n",
    "a.run()"
   ]
  },
  {
   "cell_type": "code",
   "execution_count": 83,
   "metadata": {
    "ExecuteTime": {
     "end_time": "2019-12-09T06:43:11.021313Z",
     "start_time": "2019-12-09T06:43:09.283802Z"
    },
    "scrolled": true
   },
   "outputs": [
    {
     "name": "stdout",
     "output_type": "stream",
     "text": [
      "81348\n"
     ]
    },
    {
     "data": {
      "text/plain": [
       "81348"
      ]
     },
     "execution_count": 83,
     "metadata": {},
     "output_type": "execute_result"
    }
   ],
   "source": [
    "a = Amp(program, [2], output_callback=print)\n",
    "a.run()"
   ]
  },
  {
   "cell_type": "code",
   "execution_count": null,
   "metadata": {},
   "outputs": [],
   "source": []
  }
 ],
 "metadata": {
  "kernelspec": {
   "display_name": "Python 3",
   "language": "python",
   "name": "python3"
  },
  "language_info": {
   "codemirror_mode": {
    "name": "ipython",
    "version": 3
   },
   "file_extension": ".py",
   "mimetype": "text/x-python",
   "name": "python",
   "nbconvert_exporter": "python",
   "pygments_lexer": "ipython3",
   "version": "3.5.0"
  },
  "toc": {
   "base_numbering": 1,
   "nav_menu": {},
   "number_sections": true,
   "sideBar": true,
   "skip_h1_title": false,
   "title_cell": "Table of Contents",
   "title_sidebar": "Contents",
   "toc_cell": false,
   "toc_position": {},
   "toc_section_display": true,
   "toc_window_display": false
  }
 },
 "nbformat": 4,
 "nbformat_minor": 2
}

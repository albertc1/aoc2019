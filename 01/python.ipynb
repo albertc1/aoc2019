{
 "cells": [
  {
   "cell_type": "code",
   "execution_count": 9,
   "metadata": {
    "ExecuteTime": {
     "end_time": "2019-12-02T02:52:11.748514Z",
     "start_time": "2019-12-02T02:52:11.742080Z"
    }
   },
   "outputs": [
    {
     "data": {
      "text/plain": [
       "3454026"
      ]
     },
     "execution_count": 9,
     "metadata": {},
     "output_type": "execute_result"
    }
   ],
   "source": [
    "total = 0\n",
    "with open('input.txt', 'r') as f:\n",
    "    for l in f:\n",
    "        mass = int(l.strip())\n",
    "        total += mass // 3 - 2\n",
    "total"
   ]
  },
  {
   "cell_type": "code",
   "execution_count": 11,
   "metadata": {
    "ExecuteTime": {
     "end_time": "2019-12-02T02:54:05.109022Z",
     "start_time": "2019-12-02T02:54:05.100110Z"
    }
   },
   "outputs": [
    {
     "data": {
      "text/plain": [
       "5178170"
      ]
     },
     "execution_count": 11,
     "metadata": {},
     "output_type": "execute_result"
    }
   ],
   "source": [
    "def get_fuel(mass):\n",
    "    fuel = mass // 3 - 2\n",
    "    if fuel < 1:\n",
    "        return 0\n",
    "    return fuel + get_fuel(fuel)\n",
    "\n",
    "total = 0\n",
    "with open('input.txt', 'r') as f:\n",
    "    for l in f:\n",
    "        mass = int(l.strip())\n",
    "        total += get_fuel(mass)\n",
    "total"
   ]
  },
  {
   "cell_type": "code",
   "execution_count": null,
   "metadata": {},
   "outputs": [],
   "source": []
  }
 ],
 "metadata": {
  "kernelspec": {
   "display_name": "Python 3",
   "language": "python",
   "name": "python3"
  },
  "language_info": {
   "codemirror_mode": {
    "name": "ipython",
    "version": 3
   },
   "file_extension": ".py",
   "mimetype": "text/x-python",
   "name": "python",
   "nbconvert_exporter": "python",
   "pygments_lexer": "ipython3",
   "version": "3.5.0"
  },
  "toc": {
   "base_numbering": 1,
   "nav_menu": {},
   "number_sections": true,
   "sideBar": true,
   "skip_h1_title": false,
   "title_cell": "Table of Contents",
   "title_sidebar": "Contents",
   "toc_cell": false,
   "toc_position": {},
   "toc_section_display": true,
   "toc_window_display": false
  }
 },
 "nbformat": 4,
 "nbformat_minor": 2
}
